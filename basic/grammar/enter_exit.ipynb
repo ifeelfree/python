{
 "cells": [
  {
   "cell_type": "code",
   "execution_count": 6,
   "metadata": {},
   "outputs": [],
   "source": [
    "class Example(object):\n",
    "    def __init__(self, file_name):\n",
    "        print('open the file')\n",
    "        self.fid = open(file_name,\"w\")\n",
    "    def __enter__(self):\n",
    "        return self\n",
    "    def __exit__(self, exc_type, exc_val, exc_tb):\n",
    "        print('close the file')\n",
    "        self.fid.close()\n",
    "        \n"
   ]
  },
  {
   "cell_type": "code",
   "execution_count": 7,
   "metadata": {},
   "outputs": [
    {
     "name": "stdout",
     "output_type": "stream",
     "text": [
      "open the file\n",
      "close the file\n"
     ]
    }
   ],
   "source": [
    "with Example(\"hello.txt\") as exp:\n",
    "    pass"
   ]
  },
  {
   "cell_type": "code",
   "execution_count": 16,
   "metadata": {},
   "outputs": [],
   "source": [
    "class ExampleWrapper(object):\n",
    "    def __init__(self, file_name):\n",
    "        print('init in ExampleWrapper')\n",
    "        self.var = Example(file_name)\n",
    "    def __enter__(self):\n",
    "        return self\n",
    "    def __exit__(self, exc_type, exc_val, exc_tb):\n",
    "        self.var.__exit__(exc_type, exc_val, exc_tb)\n",
    "        print('exit in ExampleWrapper')\n",
    "         "
   ]
  },
  {
   "cell_type": "code",
   "execution_count": 17,
   "metadata": {},
   "outputs": [
    {
     "name": "stdout",
     "output_type": "stream",
     "text": [
      "init in ExampleWrapper\n",
      "open the file\n",
      "close the file\n",
      "exit in ExampleWrapper\n"
     ]
    }
   ],
   "source": [
    "with ExampleWrapper(\"ma3.txt\") as wrapper:\n",
    "    pass"
   ]
  }
 ],
 "metadata": {
  "kernelspec": {
   "display_name": "pytorch_1_6",
   "language": "python",
   "name": "pytorch_1_6"
  },
  "language_info": {
   "codemirror_mode": {
    "name": "ipython",
    "version": 3
   },
   "file_extension": ".py",
   "mimetype": "text/x-python",
   "name": "python",
   "nbconvert_exporter": "python",
   "pygments_lexer": "ipython3",
   "version": "3.8.5"
  }
 },
 "nbformat": 4,
 "nbformat_minor": 4
}
