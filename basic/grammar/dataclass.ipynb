{
 "cells": [
  {
   "cell_type": "markdown",
   "metadata": {},
   "source": [
    "# Dataclass"
   ]
  },
  {
   "cell_type": "markdown",
   "metadata": {},
   "source": [
    "## 1. `__post_init__`"
   ]
  },
  {
   "cell_type": "code",
   "execution_count": 50,
   "metadata": {},
   "outputs": [
    {
     "name": "stdout",
     "output_type": "stream",
     "text": [
      "C(i=10, j=False)\n"
     ]
    }
   ],
   "source": [
    "from dataclasses import dataclass, InitVar\n",
    " \n",
    "@dataclass\n",
    "class C:    \n",
    "    i: int    \n",
    "    j: int = None    \n",
    "    database: InitVar[int] = None    \n",
    "    def __post_init__(self, database):        \n",
    "        if self.j is None and database is not None:            \n",
    "            self.j = self.i in database#database.lookup('j')\n",
    "\n",
    "c = C(10, database=[\"a\", \"b\", \"c\"])\n",
    "print(c)"
   ]
  },
  {
   "cell_type": "code",
   "execution_count": 54,
   "metadata": {},
   "outputs": [
    {
     "name": "stdout",
     "output_type": "stream",
     "text": [
      "C(i=20, k=10, j=100)\n"
     ]
    }
   ],
   "source": [
    "from dataclasses import dataclass, InitVar\n",
    " \n",
    "@dataclass\n",
    "class C:    \n",
    "    i: int    \n",
    "      \n",
    "    k: int\n",
    "    j: int = None\n",
    "    database: InitVar[int] = None    \n",
    "    def __post_init__(self, database):        \n",
    "        if self.j is None and database is not None:            \n",
    "          self.j = self.i in database#database.lookup('j')\n",
    "       \n",
    "\n",
    "c = C(k=10, i=20, j=100, database=[\"a\", \"b\", \"c\"])\n",
    "print(c)"
   ]
  },
  {
   "cell_type": "markdown",
   "metadata": {},
   "source": [
    "## 2. `field` change default setting"
   ]
  },
  {
   "cell_type": "code",
   "execution_count": 43,
   "metadata": {},
   "outputs": [
    {
     "name": "stdout",
     "output_type": "stream",
     "text": [
      "PlayingCard(val=3, val2=30)\n",
      "60\n"
     ]
    }
   ],
   "source": [
    "from dataclasses import dataclass, field\n",
    "@dataclass(order=True)\n",
    "class PlayingCard:\n",
    "   sort_index: int = field(init=False, repr=False)\n",
    "   val:int \n",
    "   val2:int\n",
    "   def __post_init__(self):  \n",
    "       self.sort_index = self.val2*2\n",
    "    \n",
    "a= PlayingCard(3,30)\n",
    "print(a)\n",
    "print(a.sort_index)"
   ]
  },
  {
   "cell_type": "code",
   "execution_count": null,
   "metadata": {},
   "outputs": [],
   "source": []
  }
 ],
 "metadata": {
  "kernelspec": {
   "display_name": "pytorch_1_6",
   "language": "python",
   "name": "pytorch_1_6"
  },
  "language_info": {
   "codemirror_mode": {
    "name": "ipython",
    "version": 3
   },
   "file_extension": ".py",
   "mimetype": "text/x-python",
   "name": "python",
   "nbconvert_exporter": "python",
   "pygments_lexer": "ipython3",
   "version": "3.8.5"
  }
 },
 "nbformat": 4,
 "nbformat_minor": 4
}
