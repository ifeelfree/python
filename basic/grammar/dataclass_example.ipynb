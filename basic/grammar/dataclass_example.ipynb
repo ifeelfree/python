{
 "cells": [
  {
   "cell_type": "markdown",
   "metadata": {},
   "source": [
    "# Dataclass Example"
   ]
  },
  {
   "cell_type": "markdown",
   "metadata": {},
   "source": [
    "## 1. Library Example"
   ]
  },
  {
   "cell_type": "code",
   "execution_count": 58,
   "metadata": {},
   "outputs": [
    {
     "name": "stdout",
     "output_type": "stream",
     "text": [
      "Resource(\n",
      "    identifier = '978-0-13-475759-9',\n",
      "    title = 'Refactoring, 2nd Edition',\n",
      "    creators = ['Martin Fowler', 'Kent Beck'],\n",
      "    date = datetime.date(2018, 11, 19),\n",
      "    type = <ResourceType.BOOK: 1>,\n",
      "    description = 'Improving the design of existing code',\n",
      "    language = 'EN',\n",
      "    subjects = ['computer programming', 'OOP'],\n",
      ")\n",
      "True\n"
     ]
    }
   ],
   "source": [
    "from dataclasses import dataclass, field, fields\n",
    "from typing import Optional, TypedDict, List\n",
    "from enum import Enum, auto\n",
    "from datetime import date\n",
    "\n",
    "\n",
    "class ResourceType(Enum):\n",
    "    BOOK = auto()\n",
    "    EBOOK = auto()\n",
    "    VIDEO = auto()\n",
    "\n",
    "\n",
    "@dataclass\n",
    "class Resource:\n",
    "    \"\"\"Media resource description.\"\"\"\n",
    "    identifier: str\n",
    "    title: str = '<untitled>'\n",
    "    creators: List[str] = field(default_factory=list)\n",
    "    date: Optional[date] = None\n",
    "    type: ResourceType = ResourceType.BOOK\n",
    "    description: str = ''\n",
    "    language: str = ''\n",
    "    subjects: List[str] = field(default_factory=list)\n",
    "\n",
    "# tag::REPR[]\n",
    "    def __repr__(self):\n",
    "        cls = self.__class__\n",
    "        cls_name = cls.__name__\n",
    "        indent = ' ' * 4\n",
    "        res = [f'{cls_name}(']                            # <1>\n",
    "        for f in fields(cls):                             # <2>\n",
    "            value = getattr(self, f.name)                 # <3>\n",
    "            res.append(f'{indent}{f.name} = {value!r},')  # <4>\n",
    "\n",
    "        res.append(')')                                   # <5>\n",
    "        return '\\n'.join(res)                             # <6>\n",
    "# end::REPR[]\n",
    "\n",
    "\n",
    "class ResourceDict(TypedDict):\n",
    "    identifier: str\n",
    "    title: str\n",
    "    creators: List[str]\n",
    "    date: Optional[date]\n",
    "    type: ResourceType\n",
    "    description: str\n",
    "    language: str\n",
    "    subjects: List[str]\n",
    "\n",
    "\n",
    " \n",
    "r = Resource('0')\n",
    "description = 'Improving the design of existing code'\n",
    "book = Resource('978-0-13-475759-9', 'Refactoring, 2nd Edition',\n",
    "                    ['Martin Fowler', 'Kent Beck'], date(2018, 11, 19),\n",
    "                    ResourceType.BOOK, description,\n",
    "                    'EN', ['computer programming', 'OOP'])\n",
    "print(book)\n",
    "\n",
    "book_dict: ResourceDict = {\n",
    "        'identifier': '978-0-13-475759-9',\n",
    "        'title': 'Refactoring, 2nd Edition',\n",
    "        'creators': ['Martin Fowler', 'Kent Beck'],\n",
    "        'date': date(2018, 11, 19),\n",
    "        'type': ResourceType.BOOK,\n",
    "        'description': 'Improving the design of existing code',\n",
    "        'language': 'EN',\n",
    "        'subjects': ['computer programming', 'OOP']}\n",
    "book2 = Resource(**book_dict)\n",
    "print(book == book2)"
   ]
  },
  {
   "cell_type": "code",
   "execution_count": null,
   "metadata": {},
   "outputs": [],
   "source": []
  }
 ],
 "metadata": {
  "kernelspec": {
   "display_name": "pytorch_1_6",
   "language": "python",
   "name": "pytorch_1_6"
  },
  "language_info": {
   "codemirror_mode": {
    "name": "ipython",
    "version": 3
   },
   "file_extension": ".py",
   "mimetype": "text/x-python",
   "name": "python",
   "nbconvert_exporter": "python",
   "pygments_lexer": "ipython3",
   "version": "3.8.5"
  }
 },
 "nbformat": 4,
 "nbformat_minor": 4
}
